{
 "cells": [
  {
   "cell_type": "markdown",
   "source": [
    "# Data Extraction\n",
    "\n",
    "## 1. COVID19 Global Forecasting (Week 4)\n",
    "\n",
    "Source: https://www.kaggle.com/c/covid19-global-forecasting-week-4/overview"
   ],
   "metadata": {
    "collapsed": false,
    "pycharm": {
     "name": "#%% md\n"
    }
   }
  },
  {
   "cell_type": "code",
   "execution_count": 35,
   "metadata": {
    "collapsed": true,
    "pycharm": {
     "is_executing": false
    }
   },
   "outputs": [],
   "source": [
    "import pandas as pd\n",
    " \n",
    "# Import data\n",
    "\n",
    "corona = pd.read_csv('train.csv')"
   ]
  },
  {
   "cell_type": "code",
   "execution_count": 36,
   "outputs": [
    {
     "data": {
      "text/plain": "      Id Province_State Country_Region       Date  ConfirmedCases  Fatalities\n0  27019        Alabama             US  1/22/2020               0           0\n1  27020        Alabama             US  1/23/2020               0           0\n2  27021        Alabama             US  1/24/2020               0           0\n3  27022        Alabama             US  1/25/2020               0           0\n4  27023        Alabama             US  1/26/2020               0           0",
      "text/html": "<div>\n<style scoped>\n    .dataframe tbody tr th:only-of-type {\n        vertical-align: middle;\n    }\n\n    .dataframe tbody tr th {\n        vertical-align: top;\n    }\n\n    .dataframe thead th {\n        text-align: right;\n    }\n</style>\n<table border=\"1\" class=\"dataframe\">\n  <thead>\n    <tr style=\"text-align: right;\">\n      <th></th>\n      <th>Id</th>\n      <th>Province_State</th>\n      <th>Country_Region</th>\n      <th>Date</th>\n      <th>ConfirmedCases</th>\n      <th>Fatalities</th>\n    </tr>\n  </thead>\n  <tbody>\n    <tr>\n      <th>0</th>\n      <td>27019</td>\n      <td>Alabama</td>\n      <td>US</td>\n      <td>1/22/2020</td>\n      <td>0</td>\n      <td>0</td>\n    </tr>\n    <tr>\n      <th>1</th>\n      <td>27020</td>\n      <td>Alabama</td>\n      <td>US</td>\n      <td>1/23/2020</td>\n      <td>0</td>\n      <td>0</td>\n    </tr>\n    <tr>\n      <th>2</th>\n      <td>27021</td>\n      <td>Alabama</td>\n      <td>US</td>\n      <td>1/24/2020</td>\n      <td>0</td>\n      <td>0</td>\n    </tr>\n    <tr>\n      <th>3</th>\n      <td>27022</td>\n      <td>Alabama</td>\n      <td>US</td>\n      <td>1/25/2020</td>\n      <td>0</td>\n      <td>0</td>\n    </tr>\n    <tr>\n      <th>4</th>\n      <td>27023</td>\n      <td>Alabama</td>\n      <td>US</td>\n      <td>1/26/2020</td>\n      <td>0</td>\n      <td>0</td>\n    </tr>\n  </tbody>\n</table>\n</div>"
     },
     "metadata": {},
     "output_type": "execute_result",
     "execution_count": 36
    }
   ],
   "source": [
    "corona.head()"
   ],
   "metadata": {
    "collapsed": false,
    "pycharm": {
     "name": "#%%\n",
     "is_executing": false
    }
   }
  },
  {
   "cell_type": "markdown",
   "source": [
    "## 2. United States by Density 2020\n",
    "\n",
    "Source: https://worldpopulationreview.com/states/state-densities/"
   ],
   "metadata": {
    "collapsed": false
   }
  },
  {
   "cell_type": "code",
   "execution_count": 37,
   "outputs": [],
   "source": [
    "import requests\n",
    "from bs4 import BeautifulSoup as bs\n",
    "\n",
    "url = \"https://worldpopulationreview.com/states/state-densities/\"\n",
    "\n",
    "res = requests.get(url)\n",
    "soup = bs(res.content, 'html.parser')"
   ],
   "metadata": {
    "collapsed": false,
    "pycharm": {
     "name": "#%%\n",
     "is_executing": false
    }
   }
  },
  {
   "cell_type": "code",
   "execution_count": 38,
   "outputs": [
    {
     "data": {
      "text/plain": "1"
     },
     "metadata": {},
     "output_type": "execute_result",
     "execution_count": 38
    }
   ],
   "source": [
    "tables = soup.find_all('table')\n",
    "len(tables) # only one table exists"
   ],
   "metadata": {
    "collapsed": false,
    "pycharm": {
     "name": "#%%\n",
     "is_executing": false
    }
   }
  },
  {
   "cell_type": "code",
   "execution_count": 39,
   "outputs": [
    {
     "name": "stdout",
     "text": [
      "                   state density    pop_2020  area_mi\n",
      "0   District of Columbia  11,815     720,687       61\n",
      "1             New Jersey   1,215   8,936,574    7,354\n",
      "2           Rhode Island   1,021   1,056,161    1,034\n",
      "3          Massachusetts     894   6,976,597    7,800\n",
      "4            Connecticut     736   3,563,077    4,842\n",
      "5               Maryland     627   6,083,116    9,707\n",
      "6               Delaware     504     982,895    1,949\n",
      "7               New York     413  19,440,469   47,126\n",
      "8                Florida     410  21,992,985   53,625\n",
      "9                   Ohio     288  11,747,694   40,861\n",
      "10          Pennsylvania     287  12,820,878   44,743\n",
      "11            California     256  39,937,489  155,779\n",
      "12              Illinois     228  12,659,682   55,519\n",
      "13                Hawaii     220   1,412,687    6,423\n",
      "14              Virginia     218   8,626,207   39,490\n",
      "15        North Carolina     218  10,611,862   48,618\n",
      "16               Indiana     188   6,745,354   35,826\n",
      "17               Georgia     187  10,736,059   57,513\n",
      "18              Michigan     178  10,045,029   56,539\n",
      "19        South Carolina     173   5,210,095   30,061\n",
      "20             Tennessee     167   6,897,576   41,235\n",
      "21         New Hampshire     153   1,371,246    8,953\n",
      "22            Washington     117   7,797,095   66,456\n",
      "23              Kentucky     114   4,499,692   39,486\n",
      "24                 Texas     113  29,472,295  261,232\n",
      "25             Wisconsin     108   5,851,754   54,158\n",
      "26             Louisiana     108   4,645,184   43,204\n",
      "27               Alabama      97   4,908,621   50,645\n",
      "28              Missouri      90   6,169,270   68,742\n",
      "29         West Virginia      74   1,778,070   24,038\n",
      "30             Minnesota      72   5,700,671   79,627\n",
      "31               Vermont      68     628,061    9,217\n",
      "32               Arizona      65   7,378,494  113,594\n",
      "33           Mississippi      64   2,989,260   46,923\n",
      "34              Arkansas      58   3,038,999   52,035\n",
      "35              Oklahoma      58   3,954,821   68,595\n",
      "36                  Iowa      57   3,179,849   55,857\n",
      "37              Colorado      56   5,845,526  103,642\n",
      "38                Oregon      45   4,301,089   95,988\n",
      "39                 Maine      44   1,345,790   30,843\n",
      "40                  Utah      40   3,282,115   82,170\n",
      "41                Kansas      36   2,910,357   81,759\n",
      "42                Nevada      29   3,139,658  109,781\n",
      "43              Nebraska      25   1,952,570   76,824\n",
      "44                 Idaho      22   1,826,156   82,643\n",
      "45            New Mexico      17   2,096,640  121,298\n",
      "46          South Dakota      12     903,027   75,811\n",
      "47          North Dakota      11     761,723   69,001\n",
      "48               Montana       7   1,086,759  145,546\n",
      "49               Wyoming       6     567,025   97,093\n",
      "50                Alaska       1     734,002  570,641\n"
     ],
     "output_type": "stream"
    }
   ],
   "source": [
    "# Import table\n",
    "header = ['state', 'density', 'pop_2020', 'area_mi']\n",
    "tbl_rows = tables[0].tbody.find_all('tr')\n",
    "df_rows = [[td.getText().strip() for td in tr.find_all('td')] for tr in tbl_rows]\n",
    "pops = pd.DataFrame(df_rows, columns=header)\n",
    "print(pops)"
   ],
   "metadata": {
    "collapsed": false,
    "pycharm": {
     "name": "#%%\n",
     "is_executing": false
    }
   }
  },
  {
   "cell_type": "code",
   "execution_count": 40,
   "outputs": [
    {
     "data": {
      "text/plain": "                  state  density   pop_2020  area_mi\n0  District of Columbia  11815.0   720687.0     61.0\n1            New Jersey   1215.0  8936574.0   7354.0\n2          Rhode Island   1021.0  1056161.0   1034.0\n3         Massachusetts    894.0  6976597.0   7800.0\n4           Connecticut    736.0  3563077.0   4842.0",
      "text/html": "<div>\n<style scoped>\n    .dataframe tbody tr th:only-of-type {\n        vertical-align: middle;\n    }\n\n    .dataframe tbody tr th {\n        vertical-align: top;\n    }\n\n    .dataframe thead th {\n        text-align: right;\n    }\n</style>\n<table border=\"1\" class=\"dataframe\">\n  <thead>\n    <tr style=\"text-align: right;\">\n      <th></th>\n      <th>state</th>\n      <th>density</th>\n      <th>pop_2020</th>\n      <th>area_mi</th>\n    </tr>\n  </thead>\n  <tbody>\n    <tr>\n      <th>0</th>\n      <td>District of Columbia</td>\n      <td>11815.0</td>\n      <td>720687.0</td>\n      <td>61.0</td>\n    </tr>\n    <tr>\n      <th>1</th>\n      <td>New Jersey</td>\n      <td>1215.0</td>\n      <td>8936574.0</td>\n      <td>7354.0</td>\n    </tr>\n    <tr>\n      <th>2</th>\n      <td>Rhode Island</td>\n      <td>1021.0</td>\n      <td>1056161.0</td>\n      <td>1034.0</td>\n    </tr>\n    <tr>\n      <th>3</th>\n      <td>Massachusetts</td>\n      <td>894.0</td>\n      <td>6976597.0</td>\n      <td>7800.0</td>\n    </tr>\n    <tr>\n      <th>4</th>\n      <td>Connecticut</td>\n      <td>736.0</td>\n      <td>3563077.0</td>\n      <td>4842.0</td>\n    </tr>\n  </tbody>\n</table>\n</div>"
     },
     "metadata": {},
     "output_type": "execute_result",
     "execution_count": 40
    }
   ],
   "source": [
    "# Cleanse formatted string data into numeric data\n",
    "n_row = len(pops['state'] )\n",
    "for i in range(0, n_row):\n",
    "    pops['density'][i] = pops['density'][i].replace(',','')\n",
    "    pops['pop_2020'][i] = pops['pop_2020'][i].replace(',','')\n",
    "    pops['area_mi'][i] = pops['area_mi'][i].replace(',','')\n",
    "\n",
    "for col in ['density', 'pop_2020', 'area_mi']:\n",
    "    pops[col] = pops[col].astype(float)\n",
    "pops.head()"
   ],
   "metadata": {
    "collapsed": false,
    "pycharm": {
     "name": "#%%\n",
     "is_executing": false
    }
   }
  },
  {
   "cell_type": "markdown",
   "source": [
    "# 3. US Census Data 2018 (Economic and Demographic Characteristics)\n",
    "\n",
    "Source: https://www.census.gov/acs/www/data/data-tables-and-tools/data-profiles/"
   ],
   "metadata": {
    "collapsed": false,
    "pycharm": {
     "name": "#%% md\n"
    }
   }
  },
  {
   "cell_type": "code",
   "execution_count": 41,
   "outputs": [
    {
     "data": {
      "text/plain": "        GEO_ID        NAME DP05_0031PM  DP05_0032E DP05_0032M DP05_0032PE  \\\n0  0400000US01     Alabama         0.1        76.8        0.1         (X)   \n1  0400000US02      Alaska         0.2        98.6        0.7         (X)   \n2  0400000US04     Arizona         0.1        85.5        0.1         (X)   \n3  0400000US05    Arkansas         0.1        79.8        0.2         (X)   \n4  0400000US06  California         0.1        79.7        0.1         (X)   \n\n  DP05_0032PM  DP05_0033E DP05_0033M  DP05_0033PE  ... DP05_0029M  \\\n0         (X)     4864680      *****      4864680  ...        626   \n1         (X)      738516      *****       738516  ...        317   \n2         (X)     6946685      *****      6946685  ...        305   \n3         (X)     2990671      *****      2990671  ...        716   \n4         (X)    39148760      *****     39148760  ...        600   \n\n   DP05_0029PE  DP05_0029PM  DP05_0030E  DP05_0030M  DP05_0030PE  DP05_0030PM  \\\n0       783832          (X)      340401         450         43.4          0.1   \n1        78428          (X)       38937         185         49.6          0.2   \n2      1158320          (X)      533914         210         46.1          0.1   \n3       487536          (X)      216404         410         44.4          0.1   \n4      5315457          (X)     2357611         429         44.4          0.1   \n\n   DP05_0031E  DP05_0031M  DP05_0031PE  \n0      443431         395         56.6  \n1       39491         226         50.4  \n2      624406         192         53.9  \n3      271132         540         55.6  \n4     2957846         433         55.6  \n\n[5 rows x 358 columns]",
      "text/html": "<div>\n<style scoped>\n    .dataframe tbody tr th:only-of-type {\n        vertical-align: middle;\n    }\n\n    .dataframe tbody tr th {\n        vertical-align: top;\n    }\n\n    .dataframe thead th {\n        text-align: right;\n    }\n</style>\n<table border=\"1\" class=\"dataframe\">\n  <thead>\n    <tr style=\"text-align: right;\">\n      <th></th>\n      <th>GEO_ID</th>\n      <th>NAME</th>\n      <th>DP05_0031PM</th>\n      <th>DP05_0032E</th>\n      <th>DP05_0032M</th>\n      <th>DP05_0032PE</th>\n      <th>DP05_0032PM</th>\n      <th>DP05_0033E</th>\n      <th>DP05_0033M</th>\n      <th>DP05_0033PE</th>\n      <th>...</th>\n      <th>DP05_0029M</th>\n      <th>DP05_0029PE</th>\n      <th>DP05_0029PM</th>\n      <th>DP05_0030E</th>\n      <th>DP05_0030M</th>\n      <th>DP05_0030PE</th>\n      <th>DP05_0030PM</th>\n      <th>DP05_0031E</th>\n      <th>DP05_0031M</th>\n      <th>DP05_0031PE</th>\n    </tr>\n  </thead>\n  <tbody>\n    <tr>\n      <th>0</th>\n      <td>0400000US01</td>\n      <td>Alabama</td>\n      <td>0.1</td>\n      <td>76.8</td>\n      <td>0.1</td>\n      <td>(X)</td>\n      <td>(X)</td>\n      <td>4864680</td>\n      <td>*****</td>\n      <td>4864680</td>\n      <td>...</td>\n      <td>626</td>\n      <td>783832</td>\n      <td>(X)</td>\n      <td>340401</td>\n      <td>450</td>\n      <td>43.4</td>\n      <td>0.1</td>\n      <td>443431</td>\n      <td>395</td>\n      <td>56.6</td>\n    </tr>\n    <tr>\n      <th>1</th>\n      <td>0400000US02</td>\n      <td>Alaska</td>\n      <td>0.2</td>\n      <td>98.6</td>\n      <td>0.7</td>\n      <td>(X)</td>\n      <td>(X)</td>\n      <td>738516</td>\n      <td>*****</td>\n      <td>738516</td>\n      <td>...</td>\n      <td>317</td>\n      <td>78428</td>\n      <td>(X)</td>\n      <td>38937</td>\n      <td>185</td>\n      <td>49.6</td>\n      <td>0.2</td>\n      <td>39491</td>\n      <td>226</td>\n      <td>50.4</td>\n    </tr>\n    <tr>\n      <th>2</th>\n      <td>0400000US04</td>\n      <td>Arizona</td>\n      <td>0.1</td>\n      <td>85.5</td>\n      <td>0.1</td>\n      <td>(X)</td>\n      <td>(X)</td>\n      <td>6946685</td>\n      <td>*****</td>\n      <td>6946685</td>\n      <td>...</td>\n      <td>305</td>\n      <td>1158320</td>\n      <td>(X)</td>\n      <td>533914</td>\n      <td>210</td>\n      <td>46.1</td>\n      <td>0.1</td>\n      <td>624406</td>\n      <td>192</td>\n      <td>53.9</td>\n    </tr>\n    <tr>\n      <th>3</th>\n      <td>0400000US05</td>\n      <td>Arkansas</td>\n      <td>0.1</td>\n      <td>79.8</td>\n      <td>0.2</td>\n      <td>(X)</td>\n      <td>(X)</td>\n      <td>2990671</td>\n      <td>*****</td>\n      <td>2990671</td>\n      <td>...</td>\n      <td>716</td>\n      <td>487536</td>\n      <td>(X)</td>\n      <td>216404</td>\n      <td>410</td>\n      <td>44.4</td>\n      <td>0.1</td>\n      <td>271132</td>\n      <td>540</td>\n      <td>55.6</td>\n    </tr>\n    <tr>\n      <th>4</th>\n      <td>0400000US06</td>\n      <td>California</td>\n      <td>0.1</td>\n      <td>79.7</td>\n      <td>0.1</td>\n      <td>(X)</td>\n      <td>(X)</td>\n      <td>39148760</td>\n      <td>*****</td>\n      <td>39148760</td>\n      <td>...</td>\n      <td>600</td>\n      <td>5315457</td>\n      <td>(X)</td>\n      <td>2357611</td>\n      <td>429</td>\n      <td>44.4</td>\n      <td>0.1</td>\n      <td>2957846</td>\n      <td>433</td>\n      <td>55.6</td>\n    </tr>\n  </tbody>\n</table>\n<p>5 rows × 358 columns</p>\n</div>"
     },
     "metadata": {},
     "output_type": "execute_result",
     "execution_count": 41
    }
   ],
   "source": [
    "demo_2018 = pd.read_csv('demo_2018.csv')\n",
    "demo_2018.head()"
   ],
   "metadata": {
    "collapsed": false,
    "pycharm": {
     "name": "#%%\n",
     "is_executing": false
    }
   }
  },
  {
   "cell_type": "code",
   "execution_count": 42,
   "outputs": [
    {
     "data": {
      "text/plain": "        GEO_ID                  NAME  DP03_0001E  DP03_0001M  DP03_0001PE  \\\n0  0400000US02                Alaska      571528         513       571528   \n1  0400000US15                Hawaii     1147445         656      1147445   \n2  0400000US10              Delaware      769793         600       769793   \n3  0400000US13               Georgia     8082220        2829      8082220   \n4  0400000US11  District of Columbia      573275         457       573275   \n\n  DP03_0001PM  DP03_0002E  DP03_0002M  DP03_0002PE  DP03_0002PM  ...  \\\n0         (X)      396353        1893         69.3          0.3  ...   \n1         (X)      749527        2913         65.3          0.3  ...   \n2         (X)      482623        2729         62.7          0.4  ...   \n3         (X)     5091132       11115         63.0          0.1  ...   \n4         (X)      401740        2377         70.1          0.4  ...   \n\n   DP03_0135PE  DP03_0135PM  DP03_0136E  DP03_0136M  DP03_0136PE  DP03_0136PM  \\\n0          5.4          0.5         (X)         (X)          8.6          0.5   \n1          8.0          0.4         (X)         (X)          6.9          0.3   \n2          6.6          0.5         (X)         (X)          9.2          0.4   \n3         10.3          0.2         (X)         (X)         13.7          0.2   \n4         14.5          1.0         (X)         (X)         14.8          0.7   \n\n   DP03_0137E  DP03_0137M  DP03_0137PE  DP03_0137PM  \n0         (X)         (X)         18.9          0.8  \n1         (X)         (X)         24.3          0.6  \n2         (X)         (X)         23.6          0.8  \n3         (X)         (X)         26.9          0.3  \n4         (X)         (X)         20.1          0.7  \n\n[5 rows x 550 columns]",
      "text/html": "<div>\n<style scoped>\n    .dataframe tbody tr th:only-of-type {\n        vertical-align: middle;\n    }\n\n    .dataframe tbody tr th {\n        vertical-align: top;\n    }\n\n    .dataframe thead th {\n        text-align: right;\n    }\n</style>\n<table border=\"1\" class=\"dataframe\">\n  <thead>\n    <tr style=\"text-align: right;\">\n      <th></th>\n      <th>GEO_ID</th>\n      <th>NAME</th>\n      <th>DP03_0001E</th>\n      <th>DP03_0001M</th>\n      <th>DP03_0001PE</th>\n      <th>DP03_0001PM</th>\n      <th>DP03_0002E</th>\n      <th>DP03_0002M</th>\n      <th>DP03_0002PE</th>\n      <th>DP03_0002PM</th>\n      <th>...</th>\n      <th>DP03_0135PE</th>\n      <th>DP03_0135PM</th>\n      <th>DP03_0136E</th>\n      <th>DP03_0136M</th>\n      <th>DP03_0136PE</th>\n      <th>DP03_0136PM</th>\n      <th>DP03_0137E</th>\n      <th>DP03_0137M</th>\n      <th>DP03_0137PE</th>\n      <th>DP03_0137PM</th>\n    </tr>\n  </thead>\n  <tbody>\n    <tr>\n      <th>0</th>\n      <td>0400000US02</td>\n      <td>Alaska</td>\n      <td>571528</td>\n      <td>513</td>\n      <td>571528</td>\n      <td>(X)</td>\n      <td>396353</td>\n      <td>1893</td>\n      <td>69.3</td>\n      <td>0.3</td>\n      <td>...</td>\n      <td>5.4</td>\n      <td>0.5</td>\n      <td>(X)</td>\n      <td>(X)</td>\n      <td>8.6</td>\n      <td>0.5</td>\n      <td>(X)</td>\n      <td>(X)</td>\n      <td>18.9</td>\n      <td>0.8</td>\n    </tr>\n    <tr>\n      <th>1</th>\n      <td>0400000US15</td>\n      <td>Hawaii</td>\n      <td>1147445</td>\n      <td>656</td>\n      <td>1147445</td>\n      <td>(X)</td>\n      <td>749527</td>\n      <td>2913</td>\n      <td>65.3</td>\n      <td>0.3</td>\n      <td>...</td>\n      <td>8.0</td>\n      <td>0.4</td>\n      <td>(X)</td>\n      <td>(X)</td>\n      <td>6.9</td>\n      <td>0.3</td>\n      <td>(X)</td>\n      <td>(X)</td>\n      <td>24.3</td>\n      <td>0.6</td>\n    </tr>\n    <tr>\n      <th>2</th>\n      <td>0400000US10</td>\n      <td>Delaware</td>\n      <td>769793</td>\n      <td>600</td>\n      <td>769793</td>\n      <td>(X)</td>\n      <td>482623</td>\n      <td>2729</td>\n      <td>62.7</td>\n      <td>0.4</td>\n      <td>...</td>\n      <td>6.6</td>\n      <td>0.5</td>\n      <td>(X)</td>\n      <td>(X)</td>\n      <td>9.2</td>\n      <td>0.4</td>\n      <td>(X)</td>\n      <td>(X)</td>\n      <td>23.6</td>\n      <td>0.8</td>\n    </tr>\n    <tr>\n      <th>3</th>\n      <td>0400000US13</td>\n      <td>Georgia</td>\n      <td>8082220</td>\n      <td>2829</td>\n      <td>8082220</td>\n      <td>(X)</td>\n      <td>5091132</td>\n      <td>11115</td>\n      <td>63.0</td>\n      <td>0.1</td>\n      <td>...</td>\n      <td>10.3</td>\n      <td>0.2</td>\n      <td>(X)</td>\n      <td>(X)</td>\n      <td>13.7</td>\n      <td>0.2</td>\n      <td>(X)</td>\n      <td>(X)</td>\n      <td>26.9</td>\n      <td>0.3</td>\n    </tr>\n    <tr>\n      <th>4</th>\n      <td>0400000US11</td>\n      <td>District of Columbia</td>\n      <td>573275</td>\n      <td>457</td>\n      <td>573275</td>\n      <td>(X)</td>\n      <td>401740</td>\n      <td>2377</td>\n      <td>70.1</td>\n      <td>0.4</td>\n      <td>...</td>\n      <td>14.5</td>\n      <td>1.0</td>\n      <td>(X)</td>\n      <td>(X)</td>\n      <td>14.8</td>\n      <td>0.7</td>\n      <td>(X)</td>\n      <td>(X)</td>\n      <td>20.1</td>\n      <td>0.7</td>\n    </tr>\n  </tbody>\n</table>\n<p>5 rows × 550 columns</p>\n</div>"
     },
     "metadata": {},
     "output_type": "execute_result",
     "execution_count": 42
    }
   ],
   "source": [
    "eco_2018 = pd.read_csv('eco_2018.csv')\n",
    "eco_2018.head()"
   ],
   "metadata": {
    "collapsed": false,
    "pycharm": {
     "name": "#%%\n",
     "is_executing": false
    }
   }
  },
  {
   "cell_type": "markdown",
   "source": [
    "# 4. Merge Tables"
   ],
   "metadata": {
    "collapsed": false
   }
  },
  {
   "cell_type": "code",
   "execution_count": 43,
   "outputs": [
    {
     "data": {
      "text/plain": "      Id Province_State Country_Region       Date  ConfirmedCases  Fatalities  \\\n0  27019        Alabama             US  1/22/2020               0           0   \n1  27020        Alabama             US  1/23/2020               0           0   \n2  27021        Alabama             US  1/24/2020               0           0   \n3  27022        Alabama             US  1/25/2020               0           0   \n4  27023        Alabama             US  1/26/2020               0           0   \n\n     state  density   pop_2020  area_mi  \n0  Alabama     97.0  4908621.0  50645.0  \n1  Alabama     97.0  4908621.0  50645.0  \n2  Alabama     97.0  4908621.0  50645.0  \n3  Alabama     97.0  4908621.0  50645.0  \n4  Alabama     97.0  4908621.0  50645.0  ",
      "text/html": "<div>\n<style scoped>\n    .dataframe tbody tr th:only-of-type {\n        vertical-align: middle;\n    }\n\n    .dataframe tbody tr th {\n        vertical-align: top;\n    }\n\n    .dataframe thead th {\n        text-align: right;\n    }\n</style>\n<table border=\"1\" class=\"dataframe\">\n  <thead>\n    <tr style=\"text-align: right;\">\n      <th></th>\n      <th>Id</th>\n      <th>Province_State</th>\n      <th>Country_Region</th>\n      <th>Date</th>\n      <th>ConfirmedCases</th>\n      <th>Fatalities</th>\n      <th>state</th>\n      <th>density</th>\n      <th>pop_2020</th>\n      <th>area_mi</th>\n    </tr>\n  </thead>\n  <tbody>\n    <tr>\n      <th>0</th>\n      <td>27019</td>\n      <td>Alabama</td>\n      <td>US</td>\n      <td>1/22/2020</td>\n      <td>0</td>\n      <td>0</td>\n      <td>Alabama</td>\n      <td>97.0</td>\n      <td>4908621.0</td>\n      <td>50645.0</td>\n    </tr>\n    <tr>\n      <th>1</th>\n      <td>27020</td>\n      <td>Alabama</td>\n      <td>US</td>\n      <td>1/23/2020</td>\n      <td>0</td>\n      <td>0</td>\n      <td>Alabama</td>\n      <td>97.0</td>\n      <td>4908621.0</td>\n      <td>50645.0</td>\n    </tr>\n    <tr>\n      <th>2</th>\n      <td>27021</td>\n      <td>Alabama</td>\n      <td>US</td>\n      <td>1/24/2020</td>\n      <td>0</td>\n      <td>0</td>\n      <td>Alabama</td>\n      <td>97.0</td>\n      <td>4908621.0</td>\n      <td>50645.0</td>\n    </tr>\n    <tr>\n      <th>3</th>\n      <td>27022</td>\n      <td>Alabama</td>\n      <td>US</td>\n      <td>1/25/2020</td>\n      <td>0</td>\n      <td>0</td>\n      <td>Alabama</td>\n      <td>97.0</td>\n      <td>4908621.0</td>\n      <td>50645.0</td>\n    </tr>\n    <tr>\n      <th>4</th>\n      <td>27023</td>\n      <td>Alabama</td>\n      <td>US</td>\n      <td>1/26/2020</td>\n      <td>0</td>\n      <td>0</td>\n      <td>Alabama</td>\n      <td>97.0</td>\n      <td>4908621.0</td>\n      <td>50645.0</td>\n    </tr>\n  </tbody>\n</table>\n</div>"
     },
     "metadata": {},
     "output_type": "execute_result",
     "execution_count": 43
    }
   ],
   "source": [
    "# Merge corona case with pops\n",
    "train = pd.merge(corona, pops,  \n",
    "                 how='left', \n",
    "                 left_on=['Province_State'], \n",
    "                 right_on = ['state'])\n",
    "train.head()"
   ],
   "metadata": {
    "collapsed": false,
    "pycharm": {
     "name": "#%%\n",
     "is_executing": false
    }
   }
  },
  {
   "cell_type": "code",
   "execution_count": 44,
   "outputs": [
    {
     "data": {
      "text/plain": "      Id Province_State Country_Region       Date  ConfirmedCases  Fatalities  \\\n0  27019        Alabama             US  1/22/2020               0           0   \n1  27020        Alabama             US  1/23/2020               0           0   \n2  27021        Alabama             US  1/24/2020               0           0   \n3  27022        Alabama             US  1/25/2020               0           0   \n4  27023        Alabama             US  1/26/2020               0           0   \n\n     state  density   pop_2020  area_mi  ... DP03_0135PE DP03_0135PM  \\\n0  Alabama     97.0  4908621.0  50645.0  ...        10.3         0.2   \n1  Alabama     97.0  4908621.0  50645.0  ...        10.3         0.2   \n2  Alabama     97.0  4908621.0  50645.0  ...        10.3         0.2   \n3  Alabama     97.0  4908621.0  50645.0  ...        10.3         0.2   \n4  Alabama     97.0  4908621.0  50645.0  ...        10.3         0.2   \n\n   DP03_0136E  DP03_0136M  DP03_0136PE DP03_0136PM  DP03_0137E  DP03_0137M  \\\n0         (X)         (X)         14.6         0.3         (X)         (X)   \n1         (X)         (X)         14.6         0.3         (X)         (X)   \n2         (X)         (X)         14.6         0.3         (X)         (X)   \n3         (X)         (X)         14.6         0.3         (X)         (X)   \n4         (X)         (X)         14.6         0.3         (X)         (X)   \n\n   DP03_0137PE  DP03_0137PM  \n0         30.9          0.4  \n1         30.9          0.4  \n2         30.9          0.4  \n3         30.9          0.4  \n4         30.9          0.4  \n\n[5 rows x 560 columns]",
      "text/html": "<div>\n<style scoped>\n    .dataframe tbody tr th:only-of-type {\n        vertical-align: middle;\n    }\n\n    .dataframe tbody tr th {\n        vertical-align: top;\n    }\n\n    .dataframe thead th {\n        text-align: right;\n    }\n</style>\n<table border=\"1\" class=\"dataframe\">\n  <thead>\n    <tr style=\"text-align: right;\">\n      <th></th>\n      <th>Id</th>\n      <th>Province_State</th>\n      <th>Country_Region</th>\n      <th>Date</th>\n      <th>ConfirmedCases</th>\n      <th>Fatalities</th>\n      <th>state</th>\n      <th>density</th>\n      <th>pop_2020</th>\n      <th>area_mi</th>\n      <th>...</th>\n      <th>DP03_0135PE</th>\n      <th>DP03_0135PM</th>\n      <th>DP03_0136E</th>\n      <th>DP03_0136M</th>\n      <th>DP03_0136PE</th>\n      <th>DP03_0136PM</th>\n      <th>DP03_0137E</th>\n      <th>DP03_0137M</th>\n      <th>DP03_0137PE</th>\n      <th>DP03_0137PM</th>\n    </tr>\n  </thead>\n  <tbody>\n    <tr>\n      <th>0</th>\n      <td>27019</td>\n      <td>Alabama</td>\n      <td>US</td>\n      <td>1/22/2020</td>\n      <td>0</td>\n      <td>0</td>\n      <td>Alabama</td>\n      <td>97.0</td>\n      <td>4908621.0</td>\n      <td>50645.0</td>\n      <td>...</td>\n      <td>10.3</td>\n      <td>0.2</td>\n      <td>(X)</td>\n      <td>(X)</td>\n      <td>14.6</td>\n      <td>0.3</td>\n      <td>(X)</td>\n      <td>(X)</td>\n      <td>30.9</td>\n      <td>0.4</td>\n    </tr>\n    <tr>\n      <th>1</th>\n      <td>27020</td>\n      <td>Alabama</td>\n      <td>US</td>\n      <td>1/23/2020</td>\n      <td>0</td>\n      <td>0</td>\n      <td>Alabama</td>\n      <td>97.0</td>\n      <td>4908621.0</td>\n      <td>50645.0</td>\n      <td>...</td>\n      <td>10.3</td>\n      <td>0.2</td>\n      <td>(X)</td>\n      <td>(X)</td>\n      <td>14.6</td>\n      <td>0.3</td>\n      <td>(X)</td>\n      <td>(X)</td>\n      <td>30.9</td>\n      <td>0.4</td>\n    </tr>\n    <tr>\n      <th>2</th>\n      <td>27021</td>\n      <td>Alabama</td>\n      <td>US</td>\n      <td>1/24/2020</td>\n      <td>0</td>\n      <td>0</td>\n      <td>Alabama</td>\n      <td>97.0</td>\n      <td>4908621.0</td>\n      <td>50645.0</td>\n      <td>...</td>\n      <td>10.3</td>\n      <td>0.2</td>\n      <td>(X)</td>\n      <td>(X)</td>\n      <td>14.6</td>\n      <td>0.3</td>\n      <td>(X)</td>\n      <td>(X)</td>\n      <td>30.9</td>\n      <td>0.4</td>\n    </tr>\n    <tr>\n      <th>3</th>\n      <td>27022</td>\n      <td>Alabama</td>\n      <td>US</td>\n      <td>1/25/2020</td>\n      <td>0</td>\n      <td>0</td>\n      <td>Alabama</td>\n      <td>97.0</td>\n      <td>4908621.0</td>\n      <td>50645.0</td>\n      <td>...</td>\n      <td>10.3</td>\n      <td>0.2</td>\n      <td>(X)</td>\n      <td>(X)</td>\n      <td>14.6</td>\n      <td>0.3</td>\n      <td>(X)</td>\n      <td>(X)</td>\n      <td>30.9</td>\n      <td>0.4</td>\n    </tr>\n    <tr>\n      <th>4</th>\n      <td>27023</td>\n      <td>Alabama</td>\n      <td>US</td>\n      <td>1/26/2020</td>\n      <td>0</td>\n      <td>0</td>\n      <td>Alabama</td>\n      <td>97.0</td>\n      <td>4908621.0</td>\n      <td>50645.0</td>\n      <td>...</td>\n      <td>10.3</td>\n      <td>0.2</td>\n      <td>(X)</td>\n      <td>(X)</td>\n      <td>14.6</td>\n      <td>0.3</td>\n      <td>(X)</td>\n      <td>(X)</td>\n      <td>30.9</td>\n      <td>0.4</td>\n    </tr>\n  </tbody>\n</table>\n<p>5 rows × 560 columns</p>\n</div>"
     },
     "metadata": {},
     "output_type": "execute_result",
     "execution_count": 44
    }
   ],
   "source": [
    "# Merge corona case with eco_2018\n",
    "\n",
    "train = pd.merge(train, eco_2018,\n",
    "                 how='left',\n",
    "                 left_on=['Province_State'],\n",
    "                 right_on=['NAME'])\n",
    "train.head()"
   ],
   "metadata": {
    "collapsed": false,
    "pycharm": {
     "name": "#%%\n",
     "is_executing": false
    }
   }
  },
  {
   "cell_type": "code",
   "execution_count": 45,
   "outputs": [
    {
     "data": {
      "text/plain": "      Id Province_State Country_Region       Date  ConfirmedCases  Fatalities  \\\n0  27019        Alabama             US  1/22/2020               0           0   \n1  27020        Alabama             US  1/23/2020               0           0   \n2  27021        Alabama             US  1/24/2020               0           0   \n3  27022        Alabama             US  1/25/2020               0           0   \n4  27023        Alabama             US  1/26/2020               0           0   \n\n     state  density   pop_2020  area_mi  ... DP05_0029M DP05_0029PE  \\\n0  Alabama     97.0  4908621.0  50645.0  ...        626    783832.0   \n1  Alabama     97.0  4908621.0  50645.0  ...        626    783832.0   \n2  Alabama     97.0  4908621.0  50645.0  ...        626    783832.0   \n3  Alabama     97.0  4908621.0  50645.0  ...        626    783832.0   \n4  Alabama     97.0  4908621.0  50645.0  ...        626    783832.0   \n\n   DP05_0029PM  DP05_0030E  DP05_0030M DP05_0030PE  DP05_0030PM  DP05_0031E  \\\n0          (X)    340401.0         450        43.4          0.1    443431.0   \n1          (X)    340401.0         450        43.4          0.1    443431.0   \n2          (X)    340401.0         450        43.4          0.1    443431.0   \n3          (X)    340401.0         450        43.4          0.1    443431.0   \n4          (X)    340401.0         450        43.4          0.1    443431.0   \n\n   DP05_0031M  DP05_0031PE  \n0         395         56.6  \n1         395         56.6  \n2         395         56.6  \n3         395         56.6  \n4         395         56.6  \n\n[5 rows x 918 columns]",
      "text/html": "<div>\n<style scoped>\n    .dataframe tbody tr th:only-of-type {\n        vertical-align: middle;\n    }\n\n    .dataframe tbody tr th {\n        vertical-align: top;\n    }\n\n    .dataframe thead th {\n        text-align: right;\n    }\n</style>\n<table border=\"1\" class=\"dataframe\">\n  <thead>\n    <tr style=\"text-align: right;\">\n      <th></th>\n      <th>Id</th>\n      <th>Province_State</th>\n      <th>Country_Region</th>\n      <th>Date</th>\n      <th>ConfirmedCases</th>\n      <th>Fatalities</th>\n      <th>state</th>\n      <th>density</th>\n      <th>pop_2020</th>\n      <th>area_mi</th>\n      <th>...</th>\n      <th>DP05_0029M</th>\n      <th>DP05_0029PE</th>\n      <th>DP05_0029PM</th>\n      <th>DP05_0030E</th>\n      <th>DP05_0030M</th>\n      <th>DP05_0030PE</th>\n      <th>DP05_0030PM</th>\n      <th>DP05_0031E</th>\n      <th>DP05_0031M</th>\n      <th>DP05_0031PE</th>\n    </tr>\n  </thead>\n  <tbody>\n    <tr>\n      <th>0</th>\n      <td>27019</td>\n      <td>Alabama</td>\n      <td>US</td>\n      <td>1/22/2020</td>\n      <td>0</td>\n      <td>0</td>\n      <td>Alabama</td>\n      <td>97.0</td>\n      <td>4908621.0</td>\n      <td>50645.0</td>\n      <td>...</td>\n      <td>626</td>\n      <td>783832.0</td>\n      <td>(X)</td>\n      <td>340401.0</td>\n      <td>450</td>\n      <td>43.4</td>\n      <td>0.1</td>\n      <td>443431.0</td>\n      <td>395</td>\n      <td>56.6</td>\n    </tr>\n    <tr>\n      <th>1</th>\n      <td>27020</td>\n      <td>Alabama</td>\n      <td>US</td>\n      <td>1/23/2020</td>\n      <td>0</td>\n      <td>0</td>\n      <td>Alabama</td>\n      <td>97.0</td>\n      <td>4908621.0</td>\n      <td>50645.0</td>\n      <td>...</td>\n      <td>626</td>\n      <td>783832.0</td>\n      <td>(X)</td>\n      <td>340401.0</td>\n      <td>450</td>\n      <td>43.4</td>\n      <td>0.1</td>\n      <td>443431.0</td>\n      <td>395</td>\n      <td>56.6</td>\n    </tr>\n    <tr>\n      <th>2</th>\n      <td>27021</td>\n      <td>Alabama</td>\n      <td>US</td>\n      <td>1/24/2020</td>\n      <td>0</td>\n      <td>0</td>\n      <td>Alabama</td>\n      <td>97.0</td>\n      <td>4908621.0</td>\n      <td>50645.0</td>\n      <td>...</td>\n      <td>626</td>\n      <td>783832.0</td>\n      <td>(X)</td>\n      <td>340401.0</td>\n      <td>450</td>\n      <td>43.4</td>\n      <td>0.1</td>\n      <td>443431.0</td>\n      <td>395</td>\n      <td>56.6</td>\n    </tr>\n    <tr>\n      <th>3</th>\n      <td>27022</td>\n      <td>Alabama</td>\n      <td>US</td>\n      <td>1/25/2020</td>\n      <td>0</td>\n      <td>0</td>\n      <td>Alabama</td>\n      <td>97.0</td>\n      <td>4908621.0</td>\n      <td>50645.0</td>\n      <td>...</td>\n      <td>626</td>\n      <td>783832.0</td>\n      <td>(X)</td>\n      <td>340401.0</td>\n      <td>450</td>\n      <td>43.4</td>\n      <td>0.1</td>\n      <td>443431.0</td>\n      <td>395</td>\n      <td>56.6</td>\n    </tr>\n    <tr>\n      <th>4</th>\n      <td>27023</td>\n      <td>Alabama</td>\n      <td>US</td>\n      <td>1/26/2020</td>\n      <td>0</td>\n      <td>0</td>\n      <td>Alabama</td>\n      <td>97.0</td>\n      <td>4908621.0</td>\n      <td>50645.0</td>\n      <td>...</td>\n      <td>626</td>\n      <td>783832.0</td>\n      <td>(X)</td>\n      <td>340401.0</td>\n      <td>450</td>\n      <td>43.4</td>\n      <td>0.1</td>\n      <td>443431.0</td>\n      <td>395</td>\n      <td>56.6</td>\n    </tr>\n  </tbody>\n</table>\n<p>5 rows × 918 columns</p>\n</div>"
     },
     "metadata": {},
     "output_type": "execute_result",
     "execution_count": 45
    }
   ],
   "source": [
    "# Merge corona case with demo_2018\n",
    "\n",
    "train = pd.merge(train, demo_2018,\n",
    "                 how='left',\n",
    "                 left_on=['Province_State'],\n",
    "                 right_on=['NAME'])\n",
    "train.head()"
   ],
   "metadata": {
    "collapsed": false,
    "pycharm": {
     "name": "#%%\n",
     "is_executing": false
    }
   }
  },
  {
   "cell_type": "code",
   "execution_count": 47,
   "outputs": [],
   "source": [
    "train.to_csv('train_final.csv')\n"
   ],
   "metadata": {
    "collapsed": false,
    "pycharm": {
     "name": "#%%\n",
     "is_executing": false
    }
   }
  }
 ],
 "metadata": {
  "kernelspec": {
   "display_name": "Python 3",
   "language": "python",
   "name": "python3"
  },
  "language_info": {
   "codemirror_mode": {
    "name": "ipython",
    "version": 3
   },
   "file_extension": ".py",
   "mimetype": "text/x-python",
   "name": "python",
   "nbconvert_exporter": "python",
   "pygments_lexer": "ipython3",
   "version": "3.7.6"
  },
  "pycharm": {
   "stem_cell": {
    "cell_type": "raw",
    "source": [],
    "metadata": {
     "collapsed": false
    }
   }
  }
 },
 "nbformat": 4,
 "nbformat_minor": 1
}