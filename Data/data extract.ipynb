{
 "cells": [
  {
   "cell_type": "markdown",
   "source": [
    "# Data Extraction\n",
    "\n",
    "## 1. US Counties COVID 19 Dataset\n",
    "\n",
    "The New York Times GITHUB source:\n",
    "[CSV US counties](https://raw.githubusercontent.com/nytimes/covid-19-data/master/us-counties.csv) (https://www.kaggle.com/fireballbyedimyrnmom/us-counties-covid-19-dataset#us-counties.csv)"
   ],
   "metadata": {
    "collapsed": false,
    "pycharm": {
     "name": "#%% md\n"
    }
   }
  },
  {
   "cell_type": "code",
   "execution_count": 102,
   "metadata": {
    "collapsed": true,
    "pycharm": {
     "is_executing": false
    }
   },
   "outputs": [
    {
     "data": {
      "text/plain": "         date     county       state     fips  cases  deaths\n0  2020-01-21  Snohomish  Washington  53061.0      1       0\n1  2020-01-22  Snohomish  Washington  53061.0      1       0\n2  2020-01-23  Snohomish  Washington  53061.0      1       0\n3  2020-01-24       Cook    Illinois  17031.0      1       0\n4  2020-01-24  Snohomish  Washington  53061.0      1       0\n5  2020-01-25     Orange  California   6059.0      1       0",
      "text/html": "<div>\n<style scoped>\n    .dataframe tbody tr th:only-of-type {\n        vertical-align: middle;\n    }\n\n    .dataframe tbody tr th {\n        vertical-align: top;\n    }\n\n    .dataframe thead th {\n        text-align: right;\n    }\n</style>\n<table border=\"1\" class=\"dataframe\">\n  <thead>\n    <tr style=\"text-align: right;\">\n      <th></th>\n      <th>date</th>\n      <th>county</th>\n      <th>state</th>\n      <th>fips</th>\n      <th>cases</th>\n      <th>deaths</th>\n    </tr>\n  </thead>\n  <tbody>\n    <tr>\n      <th>0</th>\n      <td>2020-01-21</td>\n      <td>Snohomish</td>\n      <td>Washington</td>\n      <td>53061.0</td>\n      <td>1</td>\n      <td>0</td>\n    </tr>\n    <tr>\n      <th>1</th>\n      <td>2020-01-22</td>\n      <td>Snohomish</td>\n      <td>Washington</td>\n      <td>53061.0</td>\n      <td>1</td>\n      <td>0</td>\n    </tr>\n    <tr>\n      <th>2</th>\n      <td>2020-01-23</td>\n      <td>Snohomish</td>\n      <td>Washington</td>\n      <td>53061.0</td>\n      <td>1</td>\n      <td>0</td>\n    </tr>\n    <tr>\n      <th>3</th>\n      <td>2020-01-24</td>\n      <td>Cook</td>\n      <td>Illinois</td>\n      <td>17031.0</td>\n      <td>1</td>\n      <td>0</td>\n    </tr>\n    <tr>\n      <th>4</th>\n      <td>2020-01-24</td>\n      <td>Snohomish</td>\n      <td>Washington</td>\n      <td>53061.0</td>\n      <td>1</td>\n      <td>0</td>\n    </tr>\n    <tr>\n      <th>5</th>\n      <td>2020-01-25</td>\n      <td>Orange</td>\n      <td>California</td>\n      <td>6059.0</td>\n      <td>1</td>\n      <td>0</td>\n    </tr>\n  </tbody>\n</table>\n</div>"
     },
     "metadata": {},
     "output_type": "execute_result",
     "execution_count": 102
    }
   ],
   "source": [
    "import pandas as pd\n",
    "import matplotlib.pyplot as plt\n",
    "import numpy as np\n",
    "\n",
    "# Import data\n",
    "\n",
    "url_corona_case = 'https://raw.githubusercontent.com/nytimes/covid-19-data/master/us-counties.csv'\n",
    "\n",
    "corona_case = pd.read_csv(url_corona_case)\n",
    "corona_case.head(6)"
   ]
  },
  {
   "cell_type": "code",
   "execution_count": 103,
   "outputs": [],
   "source": [
    "# Convert state to abbrev for corona_case\n",
    "\n",
    "def state_to_abbrev(state):\n",
    "    us_state_abbrev = {\n",
    "    'Alabama': 'AL',\n",
    "    'Alaska': 'AK',\n",
    "    'American Samoa': 'AS',\n",
    "    'Arizona': 'AZ',\n",
    "    'Arkansas': 'AR',\n",
    "    'California': 'CA',\n",
    "    'Colorado': 'CO',\n",
    "    'Connecticut': 'CT',\n",
    "    'Delaware': 'DE',\n",
    "    'District of Columbia': 'DC',\n",
    "    'Florida': 'FL',\n",
    "    'Georgia': 'GA',\n",
    "    'Guam': 'GU',\n",
    "    'Hawaii': 'HI',\n",
    "    'Idaho': 'ID',\n",
    "    'Illinois': 'IL',\n",
    "    'Indiana': 'IN',\n",
    "    'Iowa': 'IA',\n",
    "    'Kansas': 'KS',\n",
    "    'Kentucky': 'KY',\n",
    "    'Louisiana': 'LA',\n",
    "    'Maine': 'ME',\n",
    "    'Maryland': 'MD',\n",
    "    'Massachusetts': 'MA',\n",
    "    'Michigan': 'MI',\n",
    "    'Minnesota': 'MN',\n",
    "    'Mississippi': 'MS',\n",
    "    'Missouri': 'MO',\n",
    "    'Montana': 'MT',\n",
    "    'Nebraska': 'NE',\n",
    "    'Nevada': 'NV',\n",
    "    'New Hampshire': 'NH',\n",
    "    'New Jersey': 'NJ',\n",
    "    'New Mexico': 'NM',\n",
    "    'New York': 'NY',\n",
    "    'North Carolina': 'NC',\n",
    "    'North Dakota': 'ND',\n",
    "    'Northern Mariana Islands':'MP',\n",
    "    'Ohio': 'OH',\n",
    "    'Oklahoma': 'OK',\n",
    "    'Oregon': 'OR',\n",
    "    'Pennsylvania': 'PA',\n",
    "    'Puerto Rico': 'PR',\n",
    "    'Rhode Island': 'RI',\n",
    "    'South Carolina': 'SC',\n",
    "    'South Dakota': 'SD',\n",
    "    'Tennessee': 'TN',\n",
    "    'Texas': 'TX',\n",
    "    'Utah': 'UT',\n",
    "    'Vermont': 'VT',\n",
    "    'Virgin Islands': 'VI',\n",
    "    'Virginia': 'VA',\n",
    "    'Washington': 'WA',\n",
    "    'West Virginia': 'WV',\n",
    "    'Wisconsin': 'WI',\n",
    "    'Wyoming': 'WY'\n",
    "    }\n",
    "    assert state in us_state_abbrev.keys()\n",
    "    return us_state_abbrev[state]"
   ],
   "metadata": {
    "collapsed": false,
    "pycharm": {
     "name": "#%%\n",
     "is_executing": false
    }
   }
  },
  {
   "cell_type": "code",
   "execution_count": 104,
   "outputs": [
    {
     "name": "stderr",
     "text": [
      "c:\\users\\jbmjy\\appdata\\local\\programs\\python\\python37-32\\lib\\site-packages\\ipykernel_launcher.py:3: SettingWithCopyWarning: \n",
      "A value is trying to be set on a copy of a slice from a DataFrame\n",
      "\n",
      "See the caveats in the documentation: https://pandas.pydata.org/pandas-docs/stable/user_guide/indexing.html#returning-a-view-versus-a-copy\n",
      "  This is separate from the ipykernel package so we can avoid doing imports until\n"
     ],
     "output_type": "stream"
    },
    {
     "data": {
      "text/plain": "         date     county state     fips  cases  deaths\n0  2020-01-21  Snohomish    WA  53061.0      1       0\n1  2020-01-22  Snohomish    WA  53061.0      1       0\n2  2020-01-23  Snohomish    WA  53061.0      1       0\n3  2020-01-24       Cook    IL  17031.0      1       0\n4  2020-01-24  Snohomish    WA  53061.0      1       0",
      "text/html": "<div>\n<style scoped>\n    .dataframe tbody tr th:only-of-type {\n        vertical-align: middle;\n    }\n\n    .dataframe tbody tr th {\n        vertical-align: top;\n    }\n\n    .dataframe thead th {\n        text-align: right;\n    }\n</style>\n<table border=\"1\" class=\"dataframe\">\n  <thead>\n    <tr style=\"text-align: right;\">\n      <th></th>\n      <th>date</th>\n      <th>county</th>\n      <th>state</th>\n      <th>fips</th>\n      <th>cases</th>\n      <th>deaths</th>\n    </tr>\n  </thead>\n  <tbody>\n    <tr>\n      <th>0</th>\n      <td>2020-01-21</td>\n      <td>Snohomish</td>\n      <td>WA</td>\n      <td>53061.0</td>\n      <td>1</td>\n      <td>0</td>\n    </tr>\n    <tr>\n      <th>1</th>\n      <td>2020-01-22</td>\n      <td>Snohomish</td>\n      <td>WA</td>\n      <td>53061.0</td>\n      <td>1</td>\n      <td>0</td>\n    </tr>\n    <tr>\n      <th>2</th>\n      <td>2020-01-23</td>\n      <td>Snohomish</td>\n      <td>WA</td>\n      <td>53061.0</td>\n      <td>1</td>\n      <td>0</td>\n    </tr>\n    <tr>\n      <th>3</th>\n      <td>2020-01-24</td>\n      <td>Cook</td>\n      <td>IL</td>\n      <td>17031.0</td>\n      <td>1</td>\n      <td>0</td>\n    </tr>\n    <tr>\n      <th>4</th>\n      <td>2020-01-24</td>\n      <td>Snohomish</td>\n      <td>WA</td>\n      <td>53061.0</td>\n      <td>1</td>\n      <td>0</td>\n    </tr>\n  </tbody>\n</table>\n</div>"
     },
     "metadata": {},
     "output_type": "execute_result",
     "execution_count": 104
    }
   ],
   "source": [
    "n_row = len(corona_case['state'] )\n",
    "for i in range(0, n_row):\n",
    "    corona_case['state'][i] = state_to_abbrev(corona_case['state'][i])\n",
    "corona_case.head()"
   ],
   "metadata": {
    "collapsed": false,
    "pycharm": {
     "name": "#%%\n",
     "is_executing": false
    }
   }
  },
  {
   "cell_type": "code",
   "execution_count": 105,
   "outputs": [
    {
     "data": {
      "text/plain": "                  cases  deaths\nstate date                     \nAK    2020-03-12      1       0\n      2020-03-13      1       0\n      2020-03-14      1       0\n      2020-03-15      1       0\n      2020-03-16      3       0",
      "text/html": "<div>\n<style scoped>\n    .dataframe tbody tr th:only-of-type {\n        vertical-align: middle;\n    }\n\n    .dataframe tbody tr th {\n        vertical-align: top;\n    }\n\n    .dataframe thead th {\n        text-align: right;\n    }\n</style>\n<table border=\"1\" class=\"dataframe\">\n  <thead>\n    <tr style=\"text-align: right;\">\n      <th></th>\n      <th></th>\n      <th>cases</th>\n      <th>deaths</th>\n    </tr>\n    <tr>\n      <th>state</th>\n      <th>date</th>\n      <th></th>\n      <th></th>\n    </tr>\n  </thead>\n  <tbody>\n    <tr>\n      <th rowspan=\"5\" valign=\"top\">AK</th>\n      <th>2020-03-12</th>\n      <td>1</td>\n      <td>0</td>\n    </tr>\n    <tr>\n      <th>2020-03-13</th>\n      <td>1</td>\n      <td>0</td>\n    </tr>\n    <tr>\n      <th>2020-03-14</th>\n      <td>1</td>\n      <td>0</td>\n    </tr>\n    <tr>\n      <th>2020-03-15</th>\n      <td>1</td>\n      <td>0</td>\n    </tr>\n    <tr>\n      <th>2020-03-16</th>\n      <td>3</td>\n      <td>0</td>\n    </tr>\n  </tbody>\n</table>\n</div>"
     },
     "metadata": {},
     "output_type": "execute_result",
     "execution_count": 105
    }
   ],
   "source": [
    "corona_case = corona_case[['date','state','cases','deaths']]\n",
    "grouped_corona_case = corona_case.groupby(['state', 'date'])\n",
    "summarized_corona_case = grouped_corona_case.sum()\n",
    "summarized_corona_case.head()"
   ],
   "metadata": {
    "collapsed": false,
    "pycharm": {
     "name": "#%%\n",
     "is_executing": false
    }
   }
  },
  {
   "cell_type": "markdown",
   "source": [
    "## 2. United States by Density 2020\n",
    "\n",
    "Website: https://worldpopulationreview.com/states/state-densities/"
   ],
   "metadata": {
    "collapsed": false,
    "pycharm": {
     "name": "#%% md\n"
    }
   }
  },
  {
   "cell_type": "code",
   "execution_count": 106,
   "outputs": [],
   "source": [
    "import requests\n",
    "from bs4 import BeautifulSoup as bs\n",
    "\n",
    "url = \"https://worldpopulationreview.com/states/state-densities/\"\n",
    "\n",
    "res = requests.get(url)\n",
    "soup = bs(res.content, 'html.parser')"
   ],
   "metadata": {
    "collapsed": false,
    "pycharm": {
     "name": "#%%\n",
     "is_executing": false
    }
   }
  },
  {
   "cell_type": "code",
   "execution_count": 107,
   "outputs": [
    {
     "data": {
      "text/plain": "1"
     },
     "metadata": {},
     "output_type": "execute_result",
     "execution_count": 107
    }
   ],
   "source": [
    "tables = soup.find_all('table')\n",
    "len(tables) # only one table exists"
   ],
   "metadata": {
    "collapsed": false,
    "pycharm": {
     "name": "#%%\n",
     "is_executing": false
    }
   }
  },
  {
   "cell_type": "code",
   "execution_count": 108,
   "outputs": [],
   "source": [
    "# header = [th.getText().strip() for th in tables[0].thead.tr.find_all('th')]\n",
    "header = ['state', 'density', 'pop_2020', 'area_mi']\n",
    "tbl_rows = tables[0].tbody.find_all('tr')\n",
    "df_rows = [[td.getText().strip() for td in tr.find_all('td')] for tr in tbl_rows]\n",
    "pops = pd.DataFrame(df_rows, columns=header)"
   ],
   "metadata": {
    "collapsed": false,
    "pycharm": {
     "name": "#%%\n",
     "is_executing": false
    }
   }
  },
  {
   "cell_type": "code",
   "execution_count": 109,
   "outputs": [
    {
     "data": {
      "text/plain": "  state density   pop_2020 area_mi\n0    DC  11,815    720,687      61\n1    NJ   1,215  8,936,574   7,354\n2    RI   1,021  1,056,161   1,034\n3    MA     894  6,976,597   7,800\n4    CT     736  3,563,077   4,842",
      "text/html": "<div>\n<style scoped>\n    .dataframe tbody tr th:only-of-type {\n        vertical-align: middle;\n    }\n\n    .dataframe tbody tr th {\n        vertical-align: top;\n    }\n\n    .dataframe thead th {\n        text-align: right;\n    }\n</style>\n<table border=\"1\" class=\"dataframe\">\n  <thead>\n    <tr style=\"text-align: right;\">\n      <th></th>\n      <th>state</th>\n      <th>density</th>\n      <th>pop_2020</th>\n      <th>area_mi</th>\n    </tr>\n  </thead>\n  <tbody>\n    <tr>\n      <th>0</th>\n      <td>DC</td>\n      <td>11,815</td>\n      <td>720,687</td>\n      <td>61</td>\n    </tr>\n    <tr>\n      <th>1</th>\n      <td>NJ</td>\n      <td>1,215</td>\n      <td>8,936,574</td>\n      <td>7,354</td>\n    </tr>\n    <tr>\n      <th>2</th>\n      <td>RI</td>\n      <td>1,021</td>\n      <td>1,056,161</td>\n      <td>1,034</td>\n    </tr>\n    <tr>\n      <th>3</th>\n      <td>MA</td>\n      <td>894</td>\n      <td>6,976,597</td>\n      <td>7,800</td>\n    </tr>\n    <tr>\n      <th>4</th>\n      <td>CT</td>\n      <td>736</td>\n      <td>3,563,077</td>\n      <td>4,842</td>\n    </tr>\n  </tbody>\n</table>\n</div>"
     },
     "metadata": {},
     "output_type": "execute_result",
     "execution_count": 109
    }
   ],
   "source": [
    "n_row = len(pops['state'] )\n",
    "for i in range(0, n_row):\n",
    "    pops['state'][i] = state_to_abbrev(pops['state'][i])\n",
    "pops.head()"
   ],
   "metadata": {
    "collapsed": false,
    "pycharm": {
     "name": "#%%\n",
     "is_executing": false
    }
   }
  },
  {
   "cell_type": "code",
   "execution_count": 110,
   "outputs": [
    {
     "data": {
      "text/plain": "  state density pop_2020 area_mi\n0    DC   11815   720687      61\n1    NJ    1215  8936574    7354\n2    RI    1021  1056161    1034\n3    MA     894  6976597    7800\n4    CT     736  3563077    4842",
      "text/html": "<div>\n<style scoped>\n    .dataframe tbody tr th:only-of-type {\n        vertical-align: middle;\n    }\n\n    .dataframe tbody tr th {\n        vertical-align: top;\n    }\n\n    .dataframe thead th {\n        text-align: right;\n    }\n</style>\n<table border=\"1\" class=\"dataframe\">\n  <thead>\n    <tr style=\"text-align: right;\">\n      <th></th>\n      <th>state</th>\n      <th>density</th>\n      <th>pop_2020</th>\n      <th>area_mi</th>\n    </tr>\n  </thead>\n  <tbody>\n    <tr>\n      <th>0</th>\n      <td>DC</td>\n      <td>11815</td>\n      <td>720687</td>\n      <td>61</td>\n    </tr>\n    <tr>\n      <th>1</th>\n      <td>NJ</td>\n      <td>1215</td>\n      <td>8936574</td>\n      <td>7354</td>\n    </tr>\n    <tr>\n      <th>2</th>\n      <td>RI</td>\n      <td>1021</td>\n      <td>1056161</td>\n      <td>1034</td>\n    </tr>\n    <tr>\n      <th>3</th>\n      <td>MA</td>\n      <td>894</td>\n      <td>6976597</td>\n      <td>7800</td>\n    </tr>\n    <tr>\n      <th>4</th>\n      <td>CT</td>\n      <td>736</td>\n      <td>3563077</td>\n      <td>4842</td>\n    </tr>\n  </tbody>\n</table>\n</div>"
     },
     "metadata": {},
     "output_type": "execute_result",
     "execution_count": 110
    }
   ],
   "source": [
    "for i in range(0, n_row):\n",
    "    pops['density'][i] = pops['density'][i].replace(',','')\n",
    "    pops['pop_2020'][i] = pops['pop_2020'][i].replace(',','')\n",
    "    pops['area_mi'][i] = pops['area_mi'][i].replace(',','')\n",
    "pops.head()"
   ],
   "metadata": {
    "collapsed": false,
    "pycharm": {
     "name": "#%%\n",
     "is_executing": false
    }
   }
  },
  {
   "cell_type": "code",
   "execution_count": 111,
   "outputs": [
    {
     "data": {
      "text/plain": "  state  density   pop_2020  area_mi\n0    DC  11815.0   720687.0     61.0\n1    NJ   1215.0  8936574.0   7354.0\n2    RI   1021.0  1056161.0   1034.0\n3    MA    894.0  6976597.0   7800.0\n4    CT    736.0  3563077.0   4842.0",
      "text/html": "<div>\n<style scoped>\n    .dataframe tbody tr th:only-of-type {\n        vertical-align: middle;\n    }\n\n    .dataframe tbody tr th {\n        vertical-align: top;\n    }\n\n    .dataframe thead th {\n        text-align: right;\n    }\n</style>\n<table border=\"1\" class=\"dataframe\">\n  <thead>\n    <tr style=\"text-align: right;\">\n      <th></th>\n      <th>state</th>\n      <th>density</th>\n      <th>pop_2020</th>\n      <th>area_mi</th>\n    </tr>\n  </thead>\n  <tbody>\n    <tr>\n      <th>0</th>\n      <td>DC</td>\n      <td>11815.0</td>\n      <td>720687.0</td>\n      <td>61.0</td>\n    </tr>\n    <tr>\n      <th>1</th>\n      <td>NJ</td>\n      <td>1215.0</td>\n      <td>8936574.0</td>\n      <td>7354.0</td>\n    </tr>\n    <tr>\n      <th>2</th>\n      <td>RI</td>\n      <td>1021.0</td>\n      <td>1056161.0</td>\n      <td>1034.0</td>\n    </tr>\n    <tr>\n      <th>3</th>\n      <td>MA</td>\n      <td>894.0</td>\n      <td>6976597.0</td>\n      <td>7800.0</td>\n    </tr>\n    <tr>\n      <th>4</th>\n      <td>CT</td>\n      <td>736.0</td>\n      <td>3563077.0</td>\n      <td>4842.0</td>\n    </tr>\n  </tbody>\n</table>\n</div>"
     },
     "metadata": {},
     "output_type": "execute_result",
     "execution_count": 111
    }
   ],
   "source": [
    "for col in ['density', 'pop_2020', 'area_mi']:\n",
    "    pops[col] = pops[col].astype(float)\n",
    "pops.head()"
   ],
   "metadata": {
    "collapsed": false,
    "pycharm": {
     "name": "#%%\n",
     "is_executing": false
    }
   }
  },
  {
   "cell_type": "code",
   "execution_count": 112,
   "outputs": [],
   "source": [
    "# Normalization\n",
    "\n",
    "min = pops['density'].min()\n",
    "max = pops['density'].max()\n",
    "\n",
    "def norm(col):\n",
    "    x = col.copy()\n",
    "    n_row = len(x)\n",
    "    for i in range(0, n_row):\n",
    "        x[i] = (x[i] - min) / (max - min)\n",
    "    return x"
   ],
   "metadata": {
    "collapsed": false,
    "pycharm": {
     "name": "#%%\n",
     "is_executing": false
    }
   }
  },
  {
   "cell_type": "code",
   "execution_count": 113,
   "outputs": [
    {
     "data": {
      "text/plain": "  state  density   pop_2020  area_mi  density_norm\n0    DC  11815.0   720687.0     61.0      1.000000\n1    NJ   1215.0  8936574.0   7354.0      0.102759\n2    RI   1021.0  1056161.0   1034.0      0.086338\n3    MA    894.0  6976597.0   7800.0      0.075588\n4    CT    736.0  3563077.0   4842.0      0.062214",
      "text/html": "<div>\n<style scoped>\n    .dataframe tbody tr th:only-of-type {\n        vertical-align: middle;\n    }\n\n    .dataframe tbody tr th {\n        vertical-align: top;\n    }\n\n    .dataframe thead th {\n        text-align: right;\n    }\n</style>\n<table border=\"1\" class=\"dataframe\">\n  <thead>\n    <tr style=\"text-align: right;\">\n      <th></th>\n      <th>state</th>\n      <th>density</th>\n      <th>pop_2020</th>\n      <th>area_mi</th>\n      <th>density_norm</th>\n    </tr>\n  </thead>\n  <tbody>\n    <tr>\n      <th>0</th>\n      <td>DC</td>\n      <td>11815.0</td>\n      <td>720687.0</td>\n      <td>61.0</td>\n      <td>1.000000</td>\n    </tr>\n    <tr>\n      <th>1</th>\n      <td>NJ</td>\n      <td>1215.0</td>\n      <td>8936574.0</td>\n      <td>7354.0</td>\n      <td>0.102759</td>\n    </tr>\n    <tr>\n      <th>2</th>\n      <td>RI</td>\n      <td>1021.0</td>\n      <td>1056161.0</td>\n      <td>1034.0</td>\n      <td>0.086338</td>\n    </tr>\n    <tr>\n      <th>3</th>\n      <td>MA</td>\n      <td>894.0</td>\n      <td>6976597.0</td>\n      <td>7800.0</td>\n      <td>0.075588</td>\n    </tr>\n    <tr>\n      <th>4</th>\n      <td>CT</td>\n      <td>736.0</td>\n      <td>3563077.0</td>\n      <td>4842.0</td>\n      <td>0.062214</td>\n    </tr>\n  </tbody>\n</table>\n</div>"
     },
     "metadata": {},
     "output_type": "execute_result",
     "execution_count": 113
    }
   ],
   "source": [
    "pops['density_norm'] = norm(pops['density'])\n",
    "pops.head()\n"
   ],
   "metadata": {
    "collapsed": false,
    "pycharm": {
     "name": "#%%\n",
     "is_executing": false
    }
   }
  },
  {
   "cell_type": "code",
   "execution_count": 114,
   "outputs": [
    {
     "data": {
      "text/plain": "  state        date  cases  deaths  density  pop_2020   area_mi  density_norm\n0    AK  2020-03-12      1       0      1.0  734002.0  570641.0           0.0\n1    AK  2020-03-13      1       0      1.0  734002.0  570641.0           0.0\n2    AK  2020-03-14      1       0      1.0  734002.0  570641.0           0.0\n3    AK  2020-03-15      1       0      1.0  734002.0  570641.0           0.0\n4    AK  2020-03-16      3       0      1.0  734002.0  570641.0           0.0",
      "text/html": "<div>\n<style scoped>\n    .dataframe tbody tr th:only-of-type {\n        vertical-align: middle;\n    }\n\n    .dataframe tbody tr th {\n        vertical-align: top;\n    }\n\n    .dataframe thead th {\n        text-align: right;\n    }\n</style>\n<table border=\"1\" class=\"dataframe\">\n  <thead>\n    <tr style=\"text-align: right;\">\n      <th></th>\n      <th>state</th>\n      <th>date</th>\n      <th>cases</th>\n      <th>deaths</th>\n      <th>density</th>\n      <th>pop_2020</th>\n      <th>area_mi</th>\n      <th>density_norm</th>\n    </tr>\n  </thead>\n  <tbody>\n    <tr>\n      <th>0</th>\n      <td>AK</td>\n      <td>2020-03-12</td>\n      <td>1</td>\n      <td>0</td>\n      <td>1.0</td>\n      <td>734002.0</td>\n      <td>570641.0</td>\n      <td>0.0</td>\n    </tr>\n    <tr>\n      <th>1</th>\n      <td>AK</td>\n      <td>2020-03-13</td>\n      <td>1</td>\n      <td>0</td>\n      <td>1.0</td>\n      <td>734002.0</td>\n      <td>570641.0</td>\n      <td>0.0</td>\n    </tr>\n    <tr>\n      <th>2</th>\n      <td>AK</td>\n      <td>2020-03-14</td>\n      <td>1</td>\n      <td>0</td>\n      <td>1.0</td>\n      <td>734002.0</td>\n      <td>570641.0</td>\n      <td>0.0</td>\n    </tr>\n    <tr>\n      <th>3</th>\n      <td>AK</td>\n      <td>2020-03-15</td>\n      <td>1</td>\n      <td>0</td>\n      <td>1.0</td>\n      <td>734002.0</td>\n      <td>570641.0</td>\n      <td>0.0</td>\n    </tr>\n    <tr>\n      <th>4</th>\n      <td>AK</td>\n      <td>2020-03-16</td>\n      <td>3</td>\n      <td>0</td>\n      <td>1.0</td>\n      <td>734002.0</td>\n      <td>570641.0</td>\n      <td>0.0</td>\n    </tr>\n  </tbody>\n</table>\n</div>"
     },
     "metadata": {},
     "output_type": "execute_result",
     "execution_count": 114
    }
   ],
   "source": [
    "summarized_corona_case = summarized_corona_case.reset_index()\n",
    "corona_case_pop = pd.merge(summarized_corona_case, pops,  how='left', left_on=['state'], right_on = ['state'])\n",
    "corona_case_pop.head()\n"
   ],
   "metadata": {
    "collapsed": false,
    "pycharm": {
     "name": "#%%\n",
     "is_executing": false
    }
   }
  },
  {
   "cell_type": "markdown",
   "source": [
    "\n",
    "\n",
    "\n",
    "\n",
    "\n",
    "\n",
    "\n",
    "\n",
    "\n",
    "\n",
    "\n",
    "\n",
    "\n",
    "\n",
    "\n",
    "\n",
    "\n",
    "\n"
   ],
   "metadata": {
    "collapsed": false,
    "pycharm": {
     "name": "#%% md\n",
     "is_executing": false
    }
   }
  },
  {
   "cell_type": "markdown",
   "metadata": {},
   "source": [
    "## b. US Zipcodes to County State to FIPS Crosswalk\n",
    "\n",
    "Kaggle data source: https://www.kaggle.com/danofer/zipcodes-county-fips-crosswalk"
   ]
  },
  {
   "cell_type": "code",
   "execution_count": 7,
   "metadata": {
    "pycharm": {
     "is_executing": false,
     "name": "#%%\n"
    }
   },
   "outputs": [
    {
     "data": {
      "text/html": [
       "<div>\n",
       "<style scoped>\n",
       "    .dataframe tbody tr th:only-of-type {\n",
       "        vertical-align: middle;\n",
       "    }\n",
       "\n",
       "    .dataframe tbody tr th {\n",
       "        vertical-align: top;\n",
       "    }\n",
       "\n",
       "    .dataframe thead th {\n",
       "        text-align: right;\n",
       "    }\n",
       "</style>\n",
       "<table border=\"1\" class=\"dataframe\">\n",
       "  <thead>\n",
       "    <tr style=\"text-align: right;\">\n",
       "      <th></th>\n",
       "      <th>ZIP</th>\n",
       "      <th>COUNTYNAME</th>\n",
       "      <th>STATE</th>\n",
       "      <th>STCOUNTYFP</th>\n",
       "      <th>CLASSFP</th>\n",
       "    </tr>\n",
       "  </thead>\n",
       "  <tbody>\n",
       "    <tr>\n",
       "      <th>0</th>\n",
       "      <td>36003</td>\n",
       "      <td>Autauga County</td>\n",
       "      <td>AL</td>\n",
       "      <td>1001</td>\n",
       "      <td>H1</td>\n",
       "    </tr>\n",
       "    <tr>\n",
       "      <th>1</th>\n",
       "      <td>36006</td>\n",
       "      <td>Autauga County</td>\n",
       "      <td>AL</td>\n",
       "      <td>1001</td>\n",
       "      <td>H1</td>\n",
       "    </tr>\n",
       "    <tr>\n",
       "      <th>2</th>\n",
       "      <td>36067</td>\n",
       "      <td>Autauga County</td>\n",
       "      <td>AL</td>\n",
       "      <td>1001</td>\n",
       "      <td>H1</td>\n",
       "    </tr>\n",
       "    <tr>\n",
       "      <th>3</th>\n",
       "      <td>36066</td>\n",
       "      <td>Autauga County</td>\n",
       "      <td>AL</td>\n",
       "      <td>1001</td>\n",
       "      <td>H1</td>\n",
       "    </tr>\n",
       "    <tr>\n",
       "      <th>4</th>\n",
       "      <td>36703</td>\n",
       "      <td>Autauga County</td>\n",
       "      <td>AL</td>\n",
       "      <td>1001</td>\n",
       "      <td>H1</td>\n",
       "    </tr>\n",
       "    <tr>\n",
       "      <th>5</th>\n",
       "      <td>36701</td>\n",
       "      <td>Autauga County</td>\n",
       "      <td>AL</td>\n",
       "      <td>1001</td>\n",
       "      <td>H1</td>\n",
       "    </tr>\n",
       "  </tbody>\n",
       "</table>\n",
       "</div>"
      ],
      "text/plain": [
       "     ZIP      COUNTYNAME STATE  STCOUNTYFP CLASSFP\n",
       "0  36003  Autauga County    AL        1001      H1\n",
       "1  36006  Autauga County    AL        1001      H1\n",
       "2  36067  Autauga County    AL        1001      H1\n",
       "3  36066  Autauga County    AL        1001      H1\n",
       "4  36703  Autauga County    AL        1001      H1\n",
       "5  36701  Autauga County    AL        1001      H1"
      ]
     },
     "execution_count": 7,
     "metadata": {},
     "output_type": "execute_result"
    }
   ],
   "source": [
    "code_mapping = pd.read_csv('ZIP-COUNTY-FIPS_2017-06.csv')\n",
    "code_mapping.head(6)\n",
    "\n",
    "\n"
   ]
  }
 ],
 "metadata": {
  "kernelspec": {
   "display_name": "Python 3",
   "language": "python",
   "name": "python3"
  },
  "language_info": {
   "codemirror_mode": {
    "name": "ipython",
    "version": 3
   },
   "file_extension": ".py",
   "mimetype": "text/x-python",
   "name": "python",
   "nbconvert_exporter": "python",
   "pygments_lexer": "ipython3",
   "version": "3.7.6"
  },
  "pycharm": {
   "stem_cell": {
    "cell_type": "raw",
    "source": [],
    "metadata": {
     "collapsed": false
    }
   }
  }
 },
 "nbformat": 4,
 "nbformat_minor": 1
}